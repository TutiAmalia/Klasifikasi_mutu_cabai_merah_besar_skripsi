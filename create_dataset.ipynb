{
 "cells": [
  {
   "cell_type": "markdown",
   "metadata": {},
   "source": [
    "## Source Code Kedua\n",
    "### Tujuan : Membuat dataset berdasarkan hasil gambar yang sudah diekstrak"
   ]
  },
  {
   "cell_type": "code",
   "execution_count": 1,
   "metadata": {},
   "outputs": [],
   "source": [
    "# Menggunakan library\n",
    "import os\n",
    "import cv2\n",
    "import numpy as np\n",
    "import pandas as pd\n",
    "from matplotlib import pyplot as plt\n",
    "%matplotlib inline"
   ]
  },
  {
   "cell_type": "code",
   "execution_count": 2,
   "metadata": {},
   "outputs": [],
   "source": [
    "# Membuat fungsi menghitung nilai rata2 rgb (Ektraksi Fitur)\n",
    "def get_mean_rgb(hasilcrop, mask2):\n",
    "    # inisialisasi variabel\n",
    "    mean_red = 0\n",
    "    mean_green = 0\n",
    "    mean_blue = 0\n",
    "    \n",
    "\n",
    "    #total pixel berwarna putih\n",
    "    total = 0\n",
    "    \n",
    "    # Mengambil nilai dari gambar 3 channel dan menjumlahkannya\n",
    "    for i in range(len(hasilcrop)):\n",
    "        for j in range(len(hasilcrop[0])):\n",
    "            if mask2[i][j] == 255:\n",
    "                total = total + 1\n",
    "                mean_red = mean_red + hasilcrop[i][j][0]\n",
    "                mean_green = mean_green + hasilcrop[i][j][1]\n",
    "                mean_blue = mean_blue + hasilcrop[i][j][2]\n",
    "    # Hasil dari jumlah dibagi dengan total dari masing2 channel\n",
    "    if total > 0:\n",
    "        mean_red = round((mean_red / total),3)\n",
    "        mean_green = round((mean_green / total),3)\n",
    "        mean_blue = round((mean_blue / total),3)\n",
    "    \n",
    "    return [mean_red, mean_green, mean_blue]"
   ]
  },
  {
   "cell_type": "code",
   "execution_count": 3,
   "metadata": {},
   "outputs": [],
   "source": [
    "# Membuat fungsi untuk deteksi berdasarkan fitur warna\n",
    "def deteksiwarna(frame):\n",
    "    # Untuk memgaburkan gambar menggunakan GaussianBlur\n",
    "    blurred = cv2.GaussianBlur(frame, (3, 3), 0)\n",
    "    \n",
    "    # Mengonversi dari gambar BGR ke HSV\n",
    "    hsv = cv2.cvtColor(blurred, cv2.COLOR_BGR2HSV)\n",
    "    \n",
    "    # Membuat ambang batas warna yang akan dideteksi\n",
    "    thresh1 = cv2.inRange(hsv, (0,0,0), (179, 255, 60))\n",
    "    #warna merah\n",
    "    thresh2 = cv2.inRange(hsv, (0,159,0), (179, 255, 255))\n",
    "    # Menggabungkan kedua ambang batas\n",
    "    mask = cv2.bitwise_or(thresh1, thresh2)\n",
    "    \n",
    "    return mask"
   ]
  },
  {
   "cell_type": "code",
   "execution_count": 4,
   "metadata": {},
   "outputs": [],
   "source": [
    "# Membuat fungsi untuk dataset\n",
    "def create_dataset():\n",
    "    # Mengambil data gambar dari tiap folder kelas\n",
    "    folders = ['Belum Matang','Setengah Matang', 'Matang', 'Busuk']\n",
    "    # Membuat variabel kolom untuk dataset\n",
    "    names = ['filename','mean_r','mean_g','mean_b','Class']    \n",
    "    # Membuat dataframe berdasarkan nama kolom yang dibuat\n",
    "    df = pd.DataFrame([], columns=names)\n",
    "    for folder in folders:\n",
    "        # Memanggil data gambar berdasarkan path\n",
    "        path = 'E:/KULIAH/TUGAS AKHIR/D42116014_Tuti Amalia/Dataset/Training/Gambar/' + folder\n",
    "        # Melakukan arah list berdasarkan path\n",
    "        files = os.listdir(path)\n",
    "#         os.makedirs(path)\n",
    "        # Mengambil setiap gambar\n",
    "        for file in files:\n",
    "            imgpath = path + '/' + file\n",
    "            # Membaca gambar\n",
    "            main_img = cv2.imread(imgpath)\n",
    "            # Mengubah ukuran gambar \n",
    "            img1 = cv2.resize(main_img, (960,540))\n",
    "            \n",
    "            # Mengatur pencahayaan dari gambar\n",
    "            alpha = 1.1 # Contrast control (1.0-3.0)\n",
    "            beta = 0 # Brightness control (0-100)\n",
    "            \n",
    "            # Mengonversi skala pencahayaan dari gambar\n",
    "            img1 = cv2.convertScaleAbs(img1, alpha=alpha, beta=beta)\n",
    "            \n",
    "            # Memanggil fungsi deteksi warna\n",
    "            detect = deteksiwarna(img1)\n",
    "            \n",
    "            # Inisialisasi kernel\n",
    "            kernel = np.array((15,15))\n",
    "            # Morfologi gambar\n",
    "            oke = cv2.erode(detect, kernel, iterations=4)\n",
    "            \n",
    "            areaArray = []\n",
    "            # Mencari kontur\n",
    "            contours, _ = cv2.findContours(oke, cv2.RETR_EXTERNAL, cv2.CHAIN_APPROX_SIMPLE)\n",
    "            \n",
    "            im = np.copy(img1)\n",
    "            for n, mask in enumerate(contours):\n",
    "                # Kontur area\n",
    "                area = cv2.contourArea(mask)\n",
    "                # Menyimpan area kontur di areaArray\n",
    "                areaArray.append(area)\n",
    "                # Mencari area kontur terbesar\n",
    "                areaLargest1 = np.argmax(areaArray)\n",
    "                areaLargestMax1 = max(areaArray)\n",
    "                areaLargestCnt1 = contours[areaLargest1]\n",
    "                \n",
    "                # Melakukan boundingRect\n",
    "                x, y, w, h = cv2.boundingRect(areaLargestCnt1)\n",
    "                \n",
    "                # Membatasi titik y yang akan diambil\n",
    "                if y > 5 and y < 300:\n",
    "                    # Kondisi luas terbesar diatas 1000\n",
    "                    if areaLargestMax1 > 1000 :\n",
    "                        # Melakukan boundingbox\n",
    "                        boundingbox = cv2.rectangle(im, (x - 1, y - 1), (x + w, y + h), (0, 255, 255), 1)\n",
    "            \n",
    "            #cv2.imshow(\"nom_\" + listfile[i], boundingbox)\n",
    "            # Melakukan pemotongan dari objek yang diteksi disesuaikan dengan masknya\n",
    "            hasilcrop = im[y: y + h, x:x + w]\n",
    "            mask2 = oke[y: y + h, x:x + w]\n",
    "            \n",
    "            lower = 0\n",
    "            upper = 0\n",
    "            fold = 0\n",
    "            \n",
    "            # Mengubah dari nama folder menjadi angka\n",
    "            if folder == 'Busuk':\n",
    "                fold = 4\n",
    "            elif folder == 'Matang':\n",
    "                fold = 3\n",
    "            elif folder == 'Setengah Matang':\n",
    "                fold = 2\n",
    "            else:\n",
    "                fold = 1\n",
    "            \n",
    "            # Menghitung rata2 rgb dari fungsi yang telah dibuat\n",
    "            mean_rgb = get_mean_rgb(hasilcrop, mask2)\n",
    "            # Membuat dataset berdasarkan variabel kolom\n",
    "            vector = [file] + mean_rgb + [fold] \n",
    "            df_temp = pd.DataFrame([vector],columns=names)\n",
    "            df = df.append(df_temp)  \n",
    "            # Menyimpan gambar hasil potongan gambar\n",
    "            cv2.imwrite('E:/KULIAH/TUGAS AKHIR/FIX/Hasil Crop/' + file, hasilcrop)\n",
    "        \n",
    "    return df"
   ]
  },
  {
   "cell_type": "code",
   "execution_count": 5,
   "metadata": {},
   "outputs": [],
   "source": [
    "# Memanggil fungsi create_dataset\n",
    "dataset = create_dataset()"
   ]
  },
  {
   "cell_type": "code",
   "execution_count": 6,
   "metadata": {},
   "outputs": [
    {
     "data": {
      "text/plain": [
       "(324, 5)"
      ]
     },
     "execution_count": 6,
     "metadata": {},
     "output_type": "execute_result"
    }
   ],
   "source": [
    "dataset.shape"
   ]
  },
  {
   "cell_type": "code",
   "execution_count": 7,
   "metadata": {},
   "outputs": [],
   "source": [
    "dataset.to_csv(\"Training.csv\", index=False, index_label=False, mode='a')"
   ]
  },
  {
   "cell_type": "code",
   "execution_count": null,
   "metadata": {},
   "outputs": [],
   "source": []
  }
 ],
 "metadata": {
  "kernelspec": {
   "display_name": "Python 3",
   "language": "python",
   "name": "python3"
  },
  "language_info": {
   "codemirror_mode": {
    "name": "ipython",
    "version": 3
   },
   "file_extension": ".py",
   "mimetype": "text/x-python",
   "name": "python",
   "nbconvert_exporter": "python",
   "pygments_lexer": "ipython3",
   "version": "3.7.1"
  }
 },
 "nbformat": 4,
 "nbformat_minor": 2
}
