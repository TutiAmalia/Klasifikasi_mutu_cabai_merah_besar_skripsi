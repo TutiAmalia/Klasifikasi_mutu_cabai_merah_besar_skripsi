{
 "cells": [
  {
   "cell_type": "markdown",
   "metadata": {},
   "source": [
    "## Source Code Ketiga\n",
    "### Pada proses ini dilakukan untuk mengklasifikasi cabai besar berdasarkan 4 kategori kelas.\n",
    "Adapun 4 kategori dari kelas cabai besar yakni:\n",
    "- kelas 1 = cabai besar belum matang (BM)\n",
    "- kelas 2 = cabai besar setengah matang (SM)\n",
    "- kelas 3 = cabai besar matang (M)\n",
    "- kelas 4 = cabai besar busuk (B)"
   ]
  },
  {
   "cell_type": "markdown",
   "metadata": {},
   "source": [
    "Metode Klasifikasi yang digunakan yakni Support Vector Machine (SVM) dengan mengambil fungsi dari library [Sklearn](https://scikit-learn.org/stable/modules/generated/sklearn.svm.SVC.html)\n",
    "\n",
    "Parameter yang digunakan pada model SVM yakni:\n",
    "- C adalah hypermeter yang ditetapkan sebelum model pelatihan dan digunakan untuk mengontrol kesalahan\n",
    "- Gamma merupakan hypermeter yang ditetapkan sebelum model pelatihan dan digunakan untuk memberikan bobot kelengkungan batas keputusan."
   ]
  },
  {
   "cell_type": "code",
   "execution_count": 1,
   "metadata": {},
   "outputs": [],
   "source": [
    "# Library\n",
    "# Untuk mengolah data \n",
    "import pandas as pd\n",
    "import numpy as np\n",
    "from sklearn.model_selection import train_test_split\n",
    "\n",
    "# Untuk mengimport SVM\n",
    "from sklearn import svm\n",
    "\n",
    "# Untuk digunakan pada SVM dengan parameter tuning \n",
    "from sklearn.model_selection import GridSearchCV\n",
    "# Standarisasi dengan metode StandardScaler\n",
    "from sklearn.preprocessing import StandardScaler\n",
    "\n",
    "from sklearn.decomposition import PCA\n",
    "# Untuk memanggil metrik akurasi\n",
    "from sklearn import metrics\n",
    "# Untuk visualisasi data\n",
    "import seaborn as sns\n",
    "import matplotlib.pyplot as plt\n",
    "\n",
    "# Menyimpan model yang akan digunakan untuk testing\n",
    "from joblib import dump, load\n",
    "\n",
    "# Menghitung nilai akurasi untuk model\n",
    "from sklearn.metrics import accuracy_score\n",
    "from sklearn.metrics import classification_report, confusion_matrix"
   ]
  },
  {
   "cell_type": "code",
   "execution_count": 2,
   "metadata": {},
   "outputs": [
    {
     "data": {
      "text/html": [
       "<div>\n",
       "<style scoped>\n",
       "    .dataframe tbody tr th:only-of-type {\n",
       "        vertical-align: middle;\n",
       "    }\n",
       "\n",
       "    .dataframe tbody tr th {\n",
       "        vertical-align: top;\n",
       "    }\n",
       "\n",
       "    .dataframe thead th {\n",
       "        text-align: right;\n",
       "    }\n",
       "</style>\n",
       "<table border=\"1\" class=\"dataframe\">\n",
       "  <thead>\n",
       "    <tr style=\"text-align: right;\">\n",
       "      <th></th>\n",
       "      <th>filename</th>\n",
       "      <th>mean_r</th>\n",
       "      <th>mean_g</th>\n",
       "      <th>mean_b</th>\n",
       "      <th>Class</th>\n",
       "    </tr>\n",
       "  </thead>\n",
       "  <tbody>\n",
       "    <tr>\n",
       "      <th>0</th>\n",
       "      <td>Belum Matang1.jpg</td>\n",
       "      <td>27.487</td>\n",
       "      <td>34.922</td>\n",
       "      <td>28.746</td>\n",
       "      <td>1</td>\n",
       "    </tr>\n",
       "    <tr>\n",
       "      <th>1</th>\n",
       "      <td>Belum Matang10.jpg</td>\n",
       "      <td>27.410</td>\n",
       "      <td>36.152</td>\n",
       "      <td>29.130</td>\n",
       "      <td>1</td>\n",
       "    </tr>\n",
       "    <tr>\n",
       "      <th>2</th>\n",
       "      <td>Belum Matang11.jpg</td>\n",
       "      <td>26.847</td>\n",
       "      <td>35.819</td>\n",
       "      <td>28.583</td>\n",
       "      <td>1</td>\n",
       "    </tr>\n",
       "    <tr>\n",
       "      <th>3</th>\n",
       "      <td>Belum Matang12.jpg</td>\n",
       "      <td>26.831</td>\n",
       "      <td>35.633</td>\n",
       "      <td>28.411</td>\n",
       "      <td>1</td>\n",
       "    </tr>\n",
       "    <tr>\n",
       "      <th>4</th>\n",
       "      <td>Belum Matang13.jpg</td>\n",
       "      <td>30.110</td>\n",
       "      <td>41.127</td>\n",
       "      <td>32.142</td>\n",
       "      <td>1</td>\n",
       "    </tr>\n",
       "  </tbody>\n",
       "</table>\n",
       "</div>"
      ],
      "text/plain": [
       "             filename  mean_r  mean_g  mean_b  Class\n",
       "0   Belum Matang1.jpg  27.487  34.922  28.746      1\n",
       "1  Belum Matang10.jpg  27.410  36.152  29.130      1\n",
       "2  Belum Matang11.jpg  26.847  35.819  28.583      1\n",
       "3  Belum Matang12.jpg  26.831  35.633  28.411      1\n",
       "4  Belum Matang13.jpg  30.110  41.127  32.142      1"
      ]
     },
     "execution_count": 2,
     "metadata": {},
     "output_type": "execute_result"
    }
   ],
   "source": [
    "# Memuat data train pada dataframe\n",
    "df_train = pd.read_csv('E:/KULIAH/TUGAS AKHIR/D42116014_Tuti Amalia/Excel/Training.csv')\n",
    "df_train.head(5)"
   ]
  },
  {
   "cell_type": "code",
   "execution_count": 3,
   "metadata": {},
   "outputs": [
    {
     "name": "stdout",
     "output_type": "stream",
     "text": [
      "<class 'pandas.core.frame.DataFrame'>\n",
      "RangeIndex: 324 entries, 0 to 323\n",
      "Data columns (total 5 columns):\n",
      " #   Column    Non-Null Count  Dtype  \n",
      "---  ------    --------------  -----  \n",
      " 0   filename  324 non-null    object \n",
      " 1   mean_r    324 non-null    float64\n",
      " 2   mean_g    324 non-null    float64\n",
      " 3   mean_b    324 non-null    float64\n",
      " 4   Class     324 non-null    int64  \n",
      "dtypes: float64(3), int64(1), object(1)\n",
      "memory usage: 12.8+ KB\n"
     ]
    }
   ],
   "source": [
    "# Memuat informasi pada dataframe train\n",
    "df_train.info()"
   ]
  },
  {
   "cell_type": "code",
   "execution_count": 4,
   "metadata": {},
   "outputs": [
    {
     "data": {
      "text/html": [
       "<div>\n",
       "<style scoped>\n",
       "    .dataframe tbody tr th:only-of-type {\n",
       "        vertical-align: middle;\n",
       "    }\n",
       "\n",
       "    .dataframe tbody tr th {\n",
       "        vertical-align: top;\n",
       "    }\n",
       "\n",
       "    .dataframe thead th {\n",
       "        text-align: right;\n",
       "    }\n",
       "</style>\n",
       "<table border=\"1\" class=\"dataframe\">\n",
       "  <thead>\n",
       "    <tr style=\"text-align: right;\">\n",
       "      <th></th>\n",
       "      <th>mean_r</th>\n",
       "      <th>mean_g</th>\n",
       "      <th>mean_b</th>\n",
       "      <th>Class</th>\n",
       "    </tr>\n",
       "  </thead>\n",
       "  <tbody>\n",
       "    <tr>\n",
       "      <th>count</th>\n",
       "      <td>324.000000</td>\n",
       "      <td>324.00000</td>\n",
       "      <td>324.000000</td>\n",
       "      <td>324.000000</td>\n",
       "    </tr>\n",
       "    <tr>\n",
       "      <th>mean</th>\n",
       "      <td>22.916235</td>\n",
       "      <td>31.86863</td>\n",
       "      <td>83.194694</td>\n",
       "      <td>2.500000</td>\n",
       "    </tr>\n",
       "    <tr>\n",
       "      <th>std</th>\n",
       "      <td>3.709183</td>\n",
       "      <td>5.33586</td>\n",
       "      <td>35.212570</td>\n",
       "      <td>1.119763</td>\n",
       "    </tr>\n",
       "    <tr>\n",
       "      <th>min</th>\n",
       "      <td>16.749000</td>\n",
       "      <td>23.78700</td>\n",
       "      <td>27.915000</td>\n",
       "      <td>1.000000</td>\n",
       "    </tr>\n",
       "    <tr>\n",
       "      <th>25%</th>\n",
       "      <td>20.114000</td>\n",
       "      <td>27.31075</td>\n",
       "      <td>49.516000</td>\n",
       "      <td>1.750000</td>\n",
       "    </tr>\n",
       "    <tr>\n",
       "      <th>50%</th>\n",
       "      <td>21.532000</td>\n",
       "      <td>31.75000</td>\n",
       "      <td>87.325500</td>\n",
       "      <td>2.500000</td>\n",
       "    </tr>\n",
       "    <tr>\n",
       "      <th>75%</th>\n",
       "      <td>25.246250</td>\n",
       "      <td>35.63350</td>\n",
       "      <td>104.476000</td>\n",
       "      <td>3.250000</td>\n",
       "    </tr>\n",
       "    <tr>\n",
       "      <th>max</th>\n",
       "      <td>33.867000</td>\n",
       "      <td>47.41900</td>\n",
       "      <td>138.995000</td>\n",
       "      <td>4.000000</td>\n",
       "    </tr>\n",
       "  </tbody>\n",
       "</table>\n",
       "</div>"
      ],
      "text/plain": [
       "           mean_r     mean_g      mean_b       Class\n",
       "count  324.000000  324.00000  324.000000  324.000000\n",
       "mean    22.916235   31.86863   83.194694    2.500000\n",
       "std      3.709183    5.33586   35.212570    1.119763\n",
       "min     16.749000   23.78700   27.915000    1.000000\n",
       "25%     20.114000   27.31075   49.516000    1.750000\n",
       "50%     21.532000   31.75000   87.325500    2.500000\n",
       "75%     25.246250   35.63350  104.476000    3.250000\n",
       "max     33.867000   47.41900  138.995000    4.000000"
      ]
     },
     "execution_count": 4,
     "metadata": {},
     "output_type": "execute_result"
    }
   ],
   "source": [
    "# Memuat deskripsi pada dataframe train\n",
    "df_train.describe()"
   ]
  },
  {
   "cell_type": "code",
   "execution_count": 5,
   "metadata": {},
   "outputs": [],
   "source": [
    "# Menyimpan fitur atribut ke dalam variabel X_train\n",
    "X = df_train.drop(labels = ['filename','Class'],axis = 1) \n",
    "# Menyimpan class (label) pada y_train\n",
    "y = df_train['Class']"
   ]
  },
  {
   "cell_type": "markdown",
   "metadata": {},
   "source": [
    "## Melakukan pembagian data pada dataset dengan train_test_split"
   ]
  },
  {
   "cell_type": "code",
   "execution_count": 6,
   "metadata": {},
   "outputs": [
    {
     "name": "stdout",
     "output_type": "stream",
     "text": [
      "X_train = 243 , y_train = 243 , X_test = 81 y_test = 81\n"
     ]
    }
   ],
   "source": [
    "# Melakukan pembagian data dengan train_test_split\n",
    "X_train, X_test, y_train, y_test = train_test_split(X, y, test_size=0.25, random_state=42)\n",
    "print('X_train = ' + str(len(X_train)) + ' , ' + 'y_train = ' + \n",
    "      str(len(y_train)) + ' , ' + 'X_test = ' + str(len(X_test)), 'y_test = ' + str(len(y_test)))"
   ]
  },
  {
   "cell_type": "markdown",
   "metadata": {},
   "source": [
    "## Feature Scaling\n",
    "### Standarisasi dengan metode StandardScaler"
   ]
  },
  {
   "cell_type": "code",
   "execution_count": 7,
   "metadata": {},
   "outputs": [],
   "source": [
    "# inisiasi StandardScaler\n",
    "scaler = StandardScaler()\n",
    "# Melakukan standarisasi data\n",
    "X_train = scaler.fit_transform(X_train)\n",
    "X_test = scaler.fit_transform(X_test)"
   ]
  },
  {
   "cell_type": "code",
   "execution_count": 8,
   "metadata": {},
   "outputs": [],
   "source": [
    "# print(X_train1[:243,:])\n",
    "# print(type(X_train1))"
   ]
  },
  {
   "cell_type": "code",
   "execution_count": 9,
   "metadata": {},
   "outputs": [],
   "source": [
    "# dataset = pd.DataFrame({'Scaler1': X_train1[:, 0], 'Scaler2': X_train1[:, 1], 'Scaler3': X_train1[:,2]})\n",
    "# dataset"
   ]
  },
  {
   "cell_type": "code",
   "execution_count": 10,
   "metadata": {},
   "outputs": [],
   "source": [
    "# result = pd.concat([X_train, dataset], axis=1)"
   ]
  },
  {
   "cell_type": "code",
   "execution_count": 11,
   "metadata": {},
   "outputs": [],
   "source": [
    "# result\n",
    "# result.to_csv(\"percobaan.csv\", index=False, index_label=False, mode='a')"
   ]
  },
  {
   "cell_type": "markdown",
   "metadata": {},
   "source": [
    "## Mengaplikasikan model klasifikasi SVM "
   ]
  },
  {
   "cell_type": "code",
   "execution_count": 12,
   "metadata": {},
   "outputs": [],
   "source": [
    "# Hyperparameter yang akan di tuning\n",
    "parameters = [{'kernel':['rbf'],\n",
    "              'gamma': [1e-5,1e-4,1e-3,0.01,0.1,0.2,0.5],\n",
    "              'C':[1e-3,0.01,0.1,1,10,100]}\n",
    "             ]"
   ]
  },
  {
   "cell_type": "code",
   "execution_count": 13,
   "metadata": {},
   "outputs": [
    {
     "name": "stderr",
     "output_type": "stream",
     "text": [
      "C:\\Users\\ASUS\\Anaconda3\\lib\\site-packages\\sklearn\\model_selection\\_search.py:841: DeprecationWarning: The default of the `iid` parameter will change from True to False in version 0.22 and will be removed in 0.24. This will change numeric results when test-set sizes are unequal.\n",
      "  DeprecationWarning)\n"
     ]
    },
    {
     "data": {
      "text/plain": [
       "GridSearchCV(cv=5, error_score='raise-deprecating',\n",
       "       estimator=SVC(C=1.0, cache_size=200, class_weight=None, coef0=0.0,\n",
       "  decision_function_shape='ovr', degree=3, gamma='auto_deprecated',\n",
       "  kernel='rbf', max_iter=-1, probability=False, random_state=None,\n",
       "  shrinking=True, tol=0.001, verbose=False),\n",
       "       fit_params=None, iid='warn', n_jobs=None,\n",
       "       param_grid=[{'kernel': ['rbf'], 'gamma': [1e-05, 0.0001, 0.001, 0.01, 0.1, 0.2, 0.5], 'C': [0.001, 0.01, 0.1, 1, 10, 100]}],\n",
       "       pre_dispatch='2*n_jobs', refit=True, return_train_score='warn',\n",
       "       scoring=None, verbose=0)"
      ]
     },
     "execution_count": 13,
     "metadata": {},
     "output_type": "execute_result"
    }
   ],
   "source": [
    "# Menggunakan Gridsearch dengan memanggil class SVC\n",
    "param_grid = GridSearchCV(svm.SVC(),parameters,cv=5)\n",
    "#melakukan training pada objek dan label\n",
    "param_grid.fit(X_train, y_train)"
   ]
  },
  {
   "cell_type": "code",
   "execution_count": 14,
   "metadata": {},
   "outputs": [
    {
     "name": "stdout",
     "output_type": "stream",
     "text": [
      "Best parameter {'C': 100, 'gamma': 0.2, 'kernel': 'rbf'} with score 0.9958847736625515\n"
     ]
    }
   ],
   "source": [
    "# Hasil hyperparameter tuning dengan skor terbaik yang di dapatkan\n",
    "print(f\"Best parameter {param_grid.best_params_} with score {param_grid.best_score_}\")"
   ]
  },
  {
   "cell_type": "code",
   "execution_count": 15,
   "metadata": {
    "scrolled": true
   },
   "outputs": [
    {
     "name": "stdout",
     "output_type": "stream",
     "text": [
      "0.350 (+/-0.387) for {'C': 0.001, 'gamma': 1e-05, 'kernel': 'rbf'}\n",
      "0.350 (+/-0.387) for {'C': 0.001, 'gamma': 0.0001, 'kernel': 'rbf'}\n",
      "0.350 (+/-0.387) for {'C': 0.001, 'gamma': 0.001, 'kernel': 'rbf'}\n",
      "0.350 (+/-0.387) for {'C': 0.001, 'gamma': 0.01, 'kernel': 'rbf'}\n",
      "0.350 (+/-0.387) for {'C': 0.001, 'gamma': 0.1, 'kernel': 'rbf'}\n",
      "0.350 (+/-0.387) for {'C': 0.001, 'gamma': 0.2, 'kernel': 'rbf'}\n",
      "0.350 (+/-0.387) for {'C': 0.001, 'gamma': 0.5, 'kernel': 'rbf'}\n",
      "0.350 (+/-0.387) for {'C': 0.01, 'gamma': 1e-05, 'kernel': 'rbf'}\n",
      "0.350 (+/-0.387) for {'C': 0.01, 'gamma': 0.0001, 'kernel': 'rbf'}\n",
      "0.350 (+/-0.387) for {'C': 0.01, 'gamma': 0.001, 'kernel': 'rbf'}\n",
      "0.350 (+/-0.387) for {'C': 0.01, 'gamma': 0.01, 'kernel': 'rbf'}\n",
      "0.350 (+/-0.387) for {'C': 0.01, 'gamma': 0.1, 'kernel': 'rbf'}\n",
      "0.350 (+/-0.387) for {'C': 0.01, 'gamma': 0.2, 'kernel': 'rbf'}\n",
      "0.350 (+/-0.387) for {'C': 0.01, 'gamma': 0.5, 'kernel': 'rbf'}\n",
      "0.350 (+/-0.387) for {'C': 0.1, 'gamma': 1e-05, 'kernel': 'rbf'}\n",
      "0.350 (+/-0.387) for {'C': 0.1, 'gamma': 0.0001, 'kernel': 'rbf'}\n",
      "0.350 (+/-0.387) for {'C': 0.1, 'gamma': 0.001, 'kernel': 'rbf'}\n",
      "0.531 (+/-0.309) for {'C': 0.1, 'gamma': 0.01, 'kernel': 'rbf'}\n",
      "0.967 (+/-0.044) for {'C': 0.1, 'gamma': 0.1, 'kernel': 'rbf'}\n",
      "0.967 (+/-0.044) for {'C': 0.1, 'gamma': 0.2, 'kernel': 'rbf'}\n",
      "0.979 (+/-0.027) for {'C': 0.1, 'gamma': 0.5, 'kernel': 'rbf'}\n",
      "0.350 (+/-0.387) for {'C': 1, 'gamma': 1e-05, 'kernel': 'rbf'}\n",
      "0.350 (+/-0.387) for {'C': 1, 'gamma': 0.0001, 'kernel': 'rbf'}\n",
      "0.551 (+/-0.349) for {'C': 1, 'gamma': 0.001, 'kernel': 'rbf'}\n",
      "0.963 (+/-0.033) for {'C': 1, 'gamma': 0.01, 'kernel': 'rbf'}\n",
      "0.988 (+/-0.020) for {'C': 1, 'gamma': 0.1, 'kernel': 'rbf'}\n",
      "0.988 (+/-0.034) for {'C': 1, 'gamma': 0.2, 'kernel': 'rbf'}\n",
      "0.992 (+/-0.021) for {'C': 1, 'gamma': 0.5, 'kernel': 'rbf'}\n",
      "0.350 (+/-0.387) for {'C': 10, 'gamma': 1e-05, 'kernel': 'rbf'}\n",
      "0.556 (+/-0.366) for {'C': 10, 'gamma': 0.0001, 'kernel': 'rbf'}\n",
      "0.963 (+/-0.033) for {'C': 10, 'gamma': 0.001, 'kernel': 'rbf'}\n",
      "0.988 (+/-0.020) for {'C': 10, 'gamma': 0.01, 'kernel': 'rbf'}\n",
      "0.988 (+/-0.034) for {'C': 10, 'gamma': 0.1, 'kernel': 'rbf'}\n",
      "0.992 (+/-0.021) for {'C': 10, 'gamma': 0.2, 'kernel': 'rbf'}\n",
      "0.992 (+/-0.034) for {'C': 10, 'gamma': 0.5, 'kernel': 'rbf'}\n",
      "0.560 (+/-0.382) for {'C': 100, 'gamma': 1e-05, 'kernel': 'rbf'}\n",
      "0.963 (+/-0.033) for {'C': 100, 'gamma': 0.0001, 'kernel': 'rbf'}\n",
      "0.988 (+/-0.020) for {'C': 100, 'gamma': 0.001, 'kernel': 'rbf'}\n",
      "0.988 (+/-0.034) for {'C': 100, 'gamma': 0.01, 'kernel': 'rbf'}\n",
      "0.992 (+/-0.034) for {'C': 100, 'gamma': 0.1, 'kernel': 'rbf'}\n",
      "0.996 (+/-0.017) for {'C': 100, 'gamma': 0.2, 'kernel': 'rbf'}\n",
      "0.996 (+/-0.017) for {'C': 100, 'gamma': 0.5, 'kernel': 'rbf'}\n"
     ]
    }
   ],
   "source": [
    "# Menampilkan hasil dari model SVM berdasarkan Hyper Parameter Tuning\n",
    "means = param_grid.cv_results_['mean_test_score']\n",
    "stds = param_grid.cv_results_['std_test_score']\n",
    "for mean, std, params in zip(means, stds, param_grid.cv_results_['params']):\n",
    "    print('%0.3f (+/-%0.03f) for %r' % (mean, std * 2, params))"
   ]
  },
  {
   "cell_type": "code",
   "execution_count": 16,
   "metadata": {},
   "outputs": [
    {
     "name": "stdout",
     "output_type": "stream",
     "text": [
      "hasil prediksi train dari best_param :  1.0\n"
     ]
    }
   ],
   "source": [
    "# Melakukan prediksi pada data testing\n",
    "y_pred1 = param_grid.predict(X_test)\n",
    "print('hasil prediksi train dari best_param : ', metrics.accuracy_score(y_test, y_pred1))"
   ]
  },
  {
   "cell_type": "code",
   "execution_count": 17,
   "metadata": {},
   "outputs": [
    {
     "name": "stdout",
     "output_type": "stream",
     "text": [
      "              precision    recall  f1-score   support\n",
      "\n",
      "           1       1.00      1.00      1.00        22\n",
      "           2       1.00      1.00      1.00        19\n",
      "           3       1.00      1.00      1.00        20\n",
      "           4       1.00      1.00      1.00        20\n",
      "\n",
      "   micro avg       1.00      1.00      1.00        81\n",
      "   macro avg       1.00      1.00      1.00        81\n",
      "weighted avg       1.00      1.00      1.00        81\n",
      "\n"
     ]
    }
   ],
   "source": [
    "# Menampilkan hasil klasifikasi\n",
    "print(metrics.classification_report(y_test, y_pred1))"
   ]
  },
  {
   "cell_type": "code",
   "execution_count": 20,
   "metadata": {},
   "outputs": [
    {
     "data": {
      "text/plain": [
       "1.0"
      ]
     },
     "execution_count": 20,
     "metadata": {},
     "output_type": "execute_result"
    }
   ],
   "source": [
    "accuracy1 = metrics.accuracy_score(y_test, y_pred1)\n",
    "accuracy1"
   ]
  },
  {
   "cell_type": "code",
   "execution_count": 21,
   "metadata": {},
   "outputs": [
    {
     "data": {
      "text/plain": [
       "array([[22,  0,  0,  0],\n",
       "       [ 0, 19,  0,  0],\n",
       "       [ 0,  0, 20,  0],\n",
       "       [ 0,  0,  0, 20]], dtype=int64)"
      ]
     },
     "execution_count": 21,
     "metadata": {},
     "output_type": "execute_result"
    }
   ],
   "source": [
    "conf1= confusion_matrix(y_test, y_pred1)\n",
    "conf1"
   ]
  },
  {
   "cell_type": "code",
   "execution_count": 22,
   "metadata": {},
   "outputs": [
    {
     "data": {
      "text/plain": [
       "SVC(C=100, cache_size=200, class_weight=None, coef0=0.0,\n",
       "  decision_function_shape='ovr', degree=3, gamma=0.2, kernel='rbf',\n",
       "  max_iter=-1, probability=False, random_state=None, shrinking=True,\n",
       "  tol=0.001, verbose=False)"
      ]
     },
     "execution_count": 22,
     "metadata": {},
     "output_type": "execute_result"
    }
   ],
   "source": [
    "model1 = svm.SVC(decision_function_shape='ovr', C= 100, gamma = 0.2, kernel = 'rbf')\n",
    "model1.fit(X_train, y_train)"
   ]
  },
  {
   "cell_type": "code",
   "execution_count": 23,
   "metadata": {},
   "outputs": [
    {
     "data": {
      "text/plain": [
       "1.0"
      ]
     },
     "execution_count": 23,
     "metadata": {},
     "output_type": "execute_result"
    }
   ],
   "source": [
    "# Melakukan prediksi pada data testing\n",
    "y_pred2 = model1.predict(X_test)\n",
    "# Menampilkan hasil akurasi dari model\n",
    "metrics.accuracy_score(y_test, y_pred2)"
   ]
  },
  {
   "cell_type": "code",
   "execution_count": 24,
   "metadata": {},
   "outputs": [
    {
     "data": {
      "text/plain": [
       "array([4, 6, 6, 8])"
      ]
     },
     "execution_count": 24,
     "metadata": {},
     "output_type": "execute_result"
    }
   ],
   "source": [
    "model1.n_support_"
   ]
  },
  {
   "cell_type": "code",
   "execution_count": 25,
   "metadata": {},
   "outputs": [
    {
     "name": "stdout",
     "output_type": "stream",
     "text": [
      "[[ 1.26255437  0.52146119 -1.56722967]\n",
      " [ 0.73006972  0.71407805 -1.54524203]\n",
      " [ 2.45983803  2.88055201 -1.31397103]\n",
      " [ 2.9466043   2.23060982 -1.38448607]\n",
      " [-1.05456065 -0.20578854  1.09399015]\n",
      " [-0.11491349  0.18615137  1.19347849]\n",
      " [-1.65696752 -0.15008985  1.24443942]\n",
      " [-1.04111406  0.25284077  1.03801902]\n",
      " [-0.36098595  0.12616817  1.11340111]\n",
      " [-0.13373871  0.7356869   1.49377578]\n",
      " [ 0.17391909 -0.7294307   0.31403026]\n",
      " [-0.63099331 -1.42762024 -0.18278154]\n",
      " [ 0.59425924 -0.5483634   0.3829993 ]\n",
      " [-0.23431914 -1.04220024 -0.13253635]\n",
      " [-0.28595402 -1.10628167 -0.13663041]\n",
      " [-0.8135979  -1.16347062  0.35975195]\n",
      " [-0.96877145 -0.7027922   0.33530216]\n",
      " [-1.09570719 -1.52169327 -0.6242807 ]\n",
      " [-0.79477268 -1.23407197 -0.88521211]\n",
      " [-0.39433347 -0.92838119  0.13981832]\n",
      " [-0.47017219  0.24017351  0.36562105]\n",
      " [-0.42310915 -0.92391039  0.03185559]\n",
      " [-0.02939323  0.28525405 -0.2120125 ]\n",
      " [-0.37954223 -0.9049095   0.16747465]]\n"
     ]
    }
   ],
   "source": [
    "sv = model1.support_vectors_\n",
    "print(sv)"
   ]
  },
  {
   "cell_type": "markdown",
   "metadata": {},
   "source": [
    "## Multi kelas menggunakan metode One vs Rest Classifier"
   ]
  },
  {
   "cell_type": "code",
   "execution_count": 26,
   "metadata": {},
   "outputs": [
    {
     "data": {
      "text/plain": [
       "1.0"
      ]
     },
     "execution_count": 26,
     "metadata": {},
     "output_type": "execute_result"
    }
   ],
   "source": [
    "from sklearn.multiclass import OneVsRestClassifier\n",
    "\n",
    "clf_2 = OneVsRestClassifier(svm.SVC(C= 100, gamma = 0.2, kernel = 'rbf'))\n",
    "clf_2.fit(X_train, y_train)                       \n",
    "# Melakukan prediksi pada data testing\n",
    "y_pred3 = clf_2.predict(X_test)                          \n",
    "metrics.accuracy_score(y_test, y_pred3)                "
   ]
  },
  {
   "cell_type": "code",
   "execution_count": 27,
   "metadata": {},
   "outputs": [
    {
     "data": {
      "text/plain": [
       "array([[ 0.01176891],\n",
       "       [-0.44893164],\n",
       "       [ 0.93014345],\n",
       "       [-6.38519065]])"
      ]
     },
     "execution_count": 27,
     "metadata": {},
     "output_type": "execute_result"
    }
   ],
   "source": [
    "# Mencari nilai bias\n",
    "clf_2.intercept_"
   ]
  },
  {
   "cell_type": "code",
   "execution_count": 28,
   "metadata": {},
   "outputs": [
    {
     "data": {
      "text/plain": [
       "4"
      ]
     },
     "execution_count": 28,
     "metadata": {},
     "output_type": "execute_result"
    }
   ],
   "source": [
    "clf_2.n_classes_"
   ]
  },
  {
   "cell_type": "code",
   "execution_count": 29,
   "metadata": {},
   "outputs": [],
   "source": [
    "# Menyimpan nama model yang akan digunakan\n",
    "filename = 'Svm_ova_v1.sav'\n",
    "dump(clf_2, open(filename, 'wb')) "
   ]
  },
  {
   "cell_type": "code",
   "execution_count": 30,
   "metadata": {},
   "outputs": [],
   "source": [
    "from mlxtend.plotting import plot_decision_regions\n",
    "pca = PCA(n_components = 2)\n",
    "Xreduced = pca.fit_transform(X_train)"
   ]
  },
  {
   "cell_type": "code",
   "execution_count": 33,
   "metadata": {},
   "outputs": [
    {
     "data": {
      "image/png": "[encoded data removed]",
      "text/plain": [
       "<Figure size 432x288 with 1 Axes>"
      ]
     },
     "metadata": {
      "needs_background": "light"
     },
     "output_type": "display_data"
    }
   ],
   "source": [
    "clf = clf_2.fit(Xreduced, y_train) #training\n",
    "# print(\"clf\", clf)\n",
    "plot_decision_regions(X=Xreduced,\n",
    "                      y=y_train.values,\n",
    "                      clf=clf, \n",
    "                      hide_spines=True,\n",
    "                      legend=0)\n",
    "# print(plot_decision_regions)\n",
    "# plt.figure(figsize=(200, 100))\n",
    "plt.xlabel(\"PC1\")\n",
    "plt.ylabel(\"PC2\")\n",
    "plt.title('Klasifikasi Mutu Cabai Merah Besar \\n Menggunakan Metode SVM', size=16)\n",
    "L = plt.legend()\n",
    "L.get_texts()[0].set_text('bm')\n",
    "L.get_texts()[1].set_text('sm')\n",
    "L.get_texts()[2].set_text('m')\n",
    "L.get_texts()[3].set_text('b')\n",
    "plt.show()"
   ]
  },
  {
   "cell_type": "code",
   "execution_count": null,
   "metadata": {},
   "outputs": [],
   "source": []
  }
 ],
 "metadata": {
  "kernelspec": {
   "display_name": "Python 3",
   "language": "python",
   "name": "python3"
  },
  "language_info": {
   "codemirror_mode": {
    "name": "ipython",
    "version": 3
   },
   "file_extension": ".py",
   "mimetype": "text/x-python",
   "name": "python",
   "nbconvert_exporter": "python",
   "pygments_lexer": "ipython3",
   "version": "3.7.1"
  }
 },
 "nbformat": 4,
 "nbformat_minor": 2
}
