{
 "cells": [
  {
   "cell_type": "markdown",
   "metadata": {},
   "source": [
    "## Source Code Pertama\n",
    "### Tujuan : Mengekstrak video menjadi frame yang akan digunakan pada data training"
   ]
  },
  {
   "cell_type": "code",
   "execution_count": 1,
   "metadata": {},
   "outputs": [],
   "source": [
    "# Library\n",
    "import cv2\n",
    "import os"
   ]
  },
  {
   "cell_type": "code",
   "execution_count": 3,
   "metadata": {},
   "outputs": [],
   "source": [
    "# Membuat folder untuk menyimpan hasil ekstraksi video\n",
    "folder = os.path.join('E:/KULIAH/TUGAS AKHIR/D42116014_Tuti Amalia/Dataset/Training/Gambar')\n",
    "os.makedirs(folder)"
   ]
  },
  {
   "cell_type": "code",
   "execution_count": null,
   "metadata": {},
   "outputs": [],
   "source": [
    "# mengambil video dari direktori\n",
    "vidcap = cv2.VideoCapture('E:/KULIAH/TUGAS AKHIR/D42116014_Tuti Amalia/Dataset/Training/Video/BM.mp4')\n",
    "\n",
    "# direktori folder yang akan disimpan gambarnya\n",
    "image_path = \"E:/KULIAH/TUGAS AKHIR/D42116014_Tuti Amalia/Dataset/Training/Gambar/Belum Matang\"\n",
    "\n",
    "# fungsi mendapatkan frame\n",
    "def getFrame(sec):\n",
    "    vidcap.set(cv2.CAP_PROP_POS_MSEC,sec*1000) # Go to the 1 sec. position\n",
    "    hasFrames,image = vidcap.read()\n",
    "    if hasFrames:\n",
    "        cv2.imwrite(image_path + str(count)+\".jpg\", image)     # simpan frame file jpg\n",
    "    return hasFrames\n",
    "\n",
    "# inisialisasi variabel\n",
    "sec = 0\n",
    "frameRate = 0.2 # akan menangkap gambar tiap 0.2s\n",
    "count = 1\n",
    "success = getFrame(sec)\n",
    "\n",
    "# kondisi kalau video terbaca\n",
    "while success:\n",
    "    count = count + 1\n",
    "    sec = sec + frameRate\n",
    "    sec = round(sec, 2)\n",
    "    success = getFrame(sec)\n",
    "print(\"{} images are extacted in {}.\".format(count,folder))"
   ]
  },
  {
   "cell_type": "code",
   "execution_count": null,
   "metadata": {},
   "outputs": [],
   "source": []
  }
 ],
 "metadata": {
  "kernelspec": {
   "display_name": "Python 3",
   "language": "python",
   "name": "python3"
  }
 },
 "nbformat": 4,
 "nbformat_minor": 2
}
